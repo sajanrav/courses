{
 "cells": [
  {
   "cell_type": "code",
   "execution_count": 1,
   "metadata": {},
   "outputs": [],
   "source": [
    "import fix_yahoo_finance as yf\n",
    "from datetime import datetime\n",
    "import pandas as pd\n",
    "import csv"
   ]
  },
  {
   "cell_type": "code",
   "execution_count": 2,
   "metadata": {},
   "outputs": [],
   "source": [
    "start = datetime(2014, 5, 15)\n",
    "end = datetime(2019, 5, 15)\n",
    "symbols_df = pd.read_excel('nse50_26_stocks.xlsx')\n",
    "symbol_list = symbols_df['Symbol'].unique().tolist()"
   ]
  },
  {
   "cell_type": "code",
   "execution_count": null,
   "metadata": {},
   "outputs": [],
   "source": [
    "daily_data = pd.DataFrame()\n",
    "monthly_data = pd.DataFrame()\n",
    "for ind in symbol_list:\n",
    "    df = yf.download(ind, start, end)\n",
    "    daily_adj_close = df[['Adj Close']]\n",
    "    daily_adj_close.columns = [ind]\n",
    "    \n",
    "    monthly = df.resample('BMS', how='first')\n",
    "    monthly_adj_close = monthly[['Adj Close']]\n",
    "    monthly_adj_close.columns = [ind]\n",
    "    \n",
    "    daily_data = pd.concat([daily_data, daily_adj_close], axis=1)\n",
    "    monthly_data = pd.concat([monthly_data, monthly_adj_close], axis=1)"
   ]
  },
  {
   "cell_type": "code",
   "execution_count": 5,
   "metadata": {},
   "outputs": [],
   "source": [
    "daily_data.to_csv('sensex_daily_data_26_stocks.csv', quoting=csv.QUOTE_ALL)\n",
    "monthly_data.to_csv('sensex_monthly_data_26_stocks.csv', quoting=csv.QUOTE_ALL)"
   ]
  },
  {
   "cell_type": "code",
   "execution_count": 11,
   "metadata": {},
   "outputs": [],
   "source": [
    "monthly_data = pd.read_csv('sensex_monthly_data_26_stocks.csv')\n",
    "monthly_data = monthly_data.set_index('Date')\n",
    "\n",
    "#Remove BAJAJ-AUTO.NS \n",
    "monthly_data = monthly_data.iloc[:,1:]"
   ]
  },
  {
   "cell_type": "code",
   "execution_count": null,
   "metadata": {},
   "outputs": [],
   "source": [
    "monthly_data.isna().sum()"
   ]
  },
  {
   "cell_type": "code",
   "execution_count": null,
   "metadata": {},
   "outputs": [],
   "source": [
    "monthly_returns = (monthly_data - monthly_data.shift(1))/monthly_data.shift(1)\n",
    "monthly_returns = monthly_returns.dropna()\n",
    "monthly_transpose = monthly_returns.transpose()\n",
    "\n",
    "cols = list(monthly_transpose.columns)\n",
    "temp = [ datetime.strptime(val, '%Y-%m-%d') for val in cols ]\n",
    "new_cols = [ datetime.strftime(val, '%b-%Y') for val in temp ]\n",
    "monthly_transpose.columns = new_cols\n",
    "monthly_transpose.index.name = 'company'\n",
    "monthly_transpose.head()"
   ]
  },
  {
   "cell_type": "code",
   "execution_count": 14,
   "metadata": {},
   "outputs": [],
   "source": [
    "monthly_transpose.to_csv('sensex_monthly_returns_25_stocks.csv', quoting=csv.QUOTE_ALL)"
   ]
  }
 ],
 "metadata": {
  "kernelspec": {
   "display_name": "Python 3",
   "language": "python",
   "name": "python3"
  },
  "language_info": {
   "codemirror_mode": {
    "name": "ipython",
    "version": 3
   },
   "file_extension": ".py",
   "mimetype": "text/x-python",
   "name": "python",
   "nbconvert_exporter": "python",
   "pygments_lexer": "ipython3",
   "version": "3.7.4"
  }
 },
 "nbformat": 4,
 "nbformat_minor": 2
}
